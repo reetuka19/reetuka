{
 "cells": [
  {
   "cell_type": "code",
   "execution_count": 2,
   "id": "057cfd25-e409-45c6-b5f5-46e165a5cdaa",
   "metadata": {},
   "outputs": [
    {
     "name": "stdout",
     "output_type": "stream",
     "text": [
      "3\n"
     ]
    }
   ],
   "source": [
    "a=1\n",
    "b=2\n",
    "print (a+b)\n"
   ]
  },
  {
   "cell_type": "markdown",
   "id": "069d4cfa-a0bd-4dc8-8c2e-93f381e04c8d",
   "metadata": {},
   "source": [
    "title"
   ]
  },
  {
   "cell_type": "markdown",
   "id": "335697c1-2703-4281-aedc-b892fe0274bc",
   "metadata": {},
   "source": [
    "www.reading.ac.uk/graduate-school/funding/phd-studentships"
   ]
  },
  {
   "cell_type": "code",
   "execution_count": 5,
   "id": "927bcf2a-36ea-4d5b-b380-545412d8d543",
   "metadata": {},
   "outputs": [
    {
     "name": "stdout",
     "output_type": "stream",
     "text": [
      "ritu\n"
     ]
    }
   ],
   "source": [
    "ritu= 5\n",
    "print(\"ritu\")\n",
    "\n",
    "      "
   ]
  },
  {
   "cell_type": "code",
   "execution_count": null,
   "id": "6645341d-e3b4-42dc-b82a-5f35c284d69c",
   "metadata": {},
   "outputs": [],
   "source": []
  }
 ],
 "metadata": {
  "kernelspec": {
   "display_name": "Python",
   "language": "python",
   "name": "conda-env-python-py"
  },
  "language_info": {
   "codemirror_mode": {
    "name": "ipython",
    "version": 3
   },
   "file_extension": ".py",
   "mimetype": "text/x-python",
   "name": "python",
   "nbconvert_exporter": "python",
   "pygments_lexer": "ipython3",
   "version": "3.7.12"
  }
 },
 "nbformat": 4,
 "nbformat_minor": 5
}
